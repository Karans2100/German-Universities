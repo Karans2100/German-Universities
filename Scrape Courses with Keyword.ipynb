{
 "cells": [
  {
   "cell_type": "markdown",
   "id": "af67b05c-22a3-4cd4-81d5-311223126d3c",
   "metadata": {},
   "source": [
    "## Scraping DAAD Website for Courses"
   ]
  },
  {
   "cell_type": "markdown",
   "id": "d05b5f6f-33b2-49d0-a204-02379adca872",
   "metadata": {},
   "source": [
    "### Getting Result Page using Selenium"
   ]
  },
  {
   "cell_type": "code",
   "execution_count": 1,
   "id": "30483d7c-46ff-4b79-b2c7-5004bb334498",
   "metadata": {},
   "outputs": [],
   "source": [
    "# Importing Dependencies\n",
    "import requests\n",
    "from bs4 import BeautifulSoup\n",
    "from selenium import webdriver\n",
    "from selenium.webdriver.common.by import By\n",
    "from selenium.webdriver.support.ui import Select\n",
    "import time\n",
    "import csv"
   ]
  },
  {
   "cell_type": "code",
   "execution_count": 4,
   "id": "f3cc3625-075e-437d-ac3b-190598f6d645",
   "metadata": {},
   "outputs": [],
   "source": [
    "# Getting the keyword to search\n",
    "def get_keyword():\n",
    "    keyword = input(\"Enter the keyword with you want to search courses: \")\n",
    "    return keyword"
   ]
  },
  {
   "cell_type": "code",
   "execution_count": 11,
   "id": "055e2986-74b4-4957-a90b-7d702cdbfc9d",
   "metadata": {},
   "outputs": [],
   "source": [
    "# Fetching the URL using Chrome\n",
    "def fetch_url():\n",
    "    url = \"https://www2.daad.de/deutschland/studienangebote/international-programmes/en/\"\n",
    "    browser = webdriver.Chrome()\n",
    "    browser.get(url)\n",
    "    browser.maximize_window()\n",
    "    time.sleep(3)\n",
    "    return browser"
   ]
  },
  {
   "cell_type": "code",
   "execution_count": 12,
   "id": "8aaf7b5b-83bf-40da-83dc-b65ace0467ea",
   "metadata": {},
   "outputs": [],
   "source": [
    "# Handling Cookie Pop Up\n",
    "def cookie_popup(browser):\n",
    "    accept_element = browser.find_element(By.XPATH, \"/html/body/div[2]/div[2]/div[2]/div/div/div[2]/button\")\n",
    "    accept_element.click()"
   ]
  },
  {
   "cell_type": "code",
   "execution_count": 36,
   "id": "a55bcc4f-02a2-4842-bd2a-b3ad564d6ec5",
   "metadata": {},
   "outputs": [],
   "source": [
    "# Selecting the Degree, Language and Field of the Program\n",
    "def select_program(browser):\n",
    "    # Selecting Degree Program\n",
    "    course_menu_element = browser.find_element(By.XPATH, '//*[@id=\"search-form-homepage\"]/div[2]/div[2]/div/div[2]/form/div[2]/div[1]/div/div/fieldset/div/button')\n",
    "    course_menu_element.click()\n",
    "    course_element = browser.find_element(By.XPATH, '/html/body/div[2]/main/div[1]/div[2]/div[2]/div/div[2]/form/div[2]/div[1]/div/div/fieldset/div/ul/li[2]/label/input')\n",
    "    course_element.click()\n",
    "    time.sleep(2)\n",
    "\n",
    "    # Selecting Language of the Program\n",
    "    language_menu_element = browser.find_element(By.XPATH, '/html/body/div[2]/main/div[1]/div[2]/div[2]/div/div[2]/form/div[2]/div[2]/div/div/fieldset/div/button')\n",
    "    language_menu_element.click()\n",
    "    language_element = browser.find_element(By.XPATH, '/html/body/div[2]/main/div[1]/div[2]/div[2]/div/div[2]/form/div[2]/div[2]/div/div/fieldset/div/ul/li[2]/label/input')\n",
    "    language_element.click()\n",
    "    time.sleep(2)\n",
    "\n",
    "    # Selecting Field of Study\n",
    "    field_menu_element = browser.find_element(By.ID, \"filterFos\")\n",
    "    field_menu_element.click()\n",
    "    field_element = browser.find_element(By.XPATH, '/html/body/div[2]/main/div[1]/div[2]/div[2]/div/div[2]/form/div[2]/div[3]/div/div/select/option[4]')\n",
    "    field_element.click()\n",
    "    time.sleep(2)"
   ]
  },
  {
   "cell_type": "code",
   "execution_count": 32,
   "id": "541b1919-f0c4-4f99-9bc6-5ff82d92bdf4",
   "metadata": {},
   "outputs": [],
   "source": [
    "# Searching for the keyword\n",
    "def search_keyword(browser, keyword):\n",
    "    # Selecting Search Menu\n",
    "    search_element = browser.find_element(By.ID, \"suggest\")\n",
    "    search_element.send_keys(keyword)\n",
    "    \n",
    "    # Closing Search Menu\n",
    "    closing_element = browser.find_element(By.XPATH, '/html/body/div[2]/main/div[2]/div/aside/div/div/ul/li[2]/span[1]')\n",
    "    closing_element.click()\n",
    "\n",
    "    # Searching Universities based on the above Criteria\n",
    "    search_element = browser.find_element(By.XPATH, '/html/body/div[2]/main/div[1]/div[2]/div[2]/div/div[2]/form/div[3]/button')\n",
    "    search_element.click()\n",
    "    time.sleep(5)"
   ]
  },
  {
   "cell_type": "code",
   "execution_count": 42,
   "id": "6833ef02-717c-4e99-80f1-850f52d67a76",
   "metadata": {},
   "outputs": [],
   "source": [
    "# Selecting the Filters for the Program\n",
    "def select_filters(browser):\n",
    "    # Selecting Tuition Fees for the program\n",
    "    fees_menu_element = browser.find_element(By.ID, \"filterFee\")\n",
    "    fees_menu_element.click()\n",
    "    fees_element = browser.find_element(By.XPATH, '/html/body/div[2]/main/form/div[1]/div/div/div/div[1]/div[2]/div[10]/div/div/select/option[2]')\n",
    "    fees_element.click()\n",
    "    time.sleep(4)\n",
    "\n",
    "    # Selecting Beginning of the Program\n",
    "    beginning_menu_element = browser.find_element(By.XPATH, '/html/body/div[2]/main/form/div[1]/div/div/div/div[1]/div[2]/div[11]/div/div[2]/div/button')\n",
    "    beginning_menu_element.click()\n",
    "    beginning_element = browser.find_element(By.XPATH, '/html/body/div[2]/main/form/div[1]/div/div/div/div[1]/div[2]/div[11]/div/div[2]/div/ul/li[2]/label/input')\n",
    "    beginning_element.click()"
   ]
  },
  {
   "cell_type": "markdown",
   "id": "ae80fd2a-3af2-475f-8a82-cb1877bbd091",
   "metadata": {},
   "source": [
    "### Getting all Data for all Pages"
   ]
  },
  {
   "cell_type": "code",
   "execution_count": 19,
   "id": "17b77448-67ef-43c2-92a8-280bddd682d3",
   "metadata": {},
   "outputs": [],
   "source": [
    "# Getting the number of pages\n",
    "def get_no_pages(browser):\n",
    "    no_pages = browser.find_element(By.XPATH, \"/html/body/div[2]/main/div[2]/div[3]/div/div/div[1]/span/span\")\n",
    "    no_pages = int(no_pages.text)\n",
    "    return no_pages"
   ]
  },
  {
   "cell_type": "code",
   "execution_count": 20,
   "id": "452e3ed1-428e-4f6d-87b2-7e03d0c4ec31",
   "metadata": {},
   "outputs": [],
   "source": [
    "# Getting to the first webpage\n",
    "def first_page(browser):\n",
    "    page_dropdown_element = browser.find_element(By.XPATH, \"/html/body/div[2]/main/div[2]/div[3]/div/div/div[1]/div[1]/div/select\")\n",
    "    page_dropdown_element.click()\n",
    "    page_number_element = browser.find_element(By.XPATH, \"/html/body/div[2]/main/div[2]/div[3]/div/div/div[1]/div[1]/div/select/option[1]\")\n",
    "    page_number_element.click()\n",
    "    time.sleep(2)"
   ]
  },
  {
   "cell_type": "code",
   "execution_count": 44,
   "id": "3c073381-b187-4d8c-aa5f-7e50e3295e2d",
   "metadata": {},
   "outputs": [],
   "source": [
    "# Getting all data for all the webpages\n",
    "def get_data(browser, no_pages):\n",
    "    course = []\n",
    "    university = []\n",
    "    location = []\n",
    "    subject = []\n",
    "    url = []\n",
    "\n",
    "    for i in range(0, no_pages):\n",
    "        print(f\"Scraping page {i + 1} of {no_pages}\")\n",
    "        # Getting the webpage and Parsing it\n",
    "        page = browser.page_source\n",
    "        doc = BeautifulSoup(page, \"html.parser\")\n",
    "\n",
    "        # Getting data using tags\n",
    "        course_name = doc.find_all(\"span\", {\"class\": \"js-course-title u-hide@sm\"})\n",
    "        university_name = doc.find_all(\"span\", {\"class\": \"c-ad-carousel__subtitle c-ad-carousel__subtitle--small js-course-academy\"})\n",
    "        location_name = doc.find_all(\"span\", {\"class\": \"c-ad-carousel__subtitle c-ad-carousel__subtitle--location c-ad-carousel__subtitle--small\"})\n",
    "        subject_name = []\n",
    "        ul_name = doc.find_all(\"ul\", {\"class\": \"c-ad-carousel__data-list c-ad-carousel__data-list--not-colored p-0 mb-0\"})\n",
    "        \n",
    "        for j in range(0, len(ul_name)):\n",
    "            li_name = ul_name[j].find_all(\"li\")\n",
    "            subject_upper = li_name[0].find_all(\"span\")\n",
    "            subject_name.append(subject_upper[0])\n",
    "    \n",
    "        url_name = doc.find_all(\"a\", {\"class\": \"list-inline-item mr-0 js-course-detail-link\"})\n",
    "\n",
    "        # Appending page wise data\n",
    "        course += course_name\n",
    "        university += university_name\n",
    "        location += location_name\n",
    "        subject += subject_name\n",
    "        url += url_name\n",
    "\n",
    "        # Breaking condition\n",
    "        if i == no_pages - 1:\n",
    "            break\n",
    "\n",
    "        # Going to the next page\n",
    "        next_page_element = browser.find_element(By.XPATH, \"/html/body/div[2]/main/div[2]/div[3]/div/div/div[1]/div[2]/a[2]\")\n",
    "        next_page_element.click()\n",
    "        time.sleep(3)\n",
    "\n",
    "    return course, university, location, subject, url"
   ]
  },
  {
   "cell_type": "markdown",
   "id": "bcf85c3d-c683-45f8-9693-4a0d113bfd41",
   "metadata": {},
   "source": [
    "### Processing the Data and Storing it in CSV"
   ]
  },
  {
   "cell_type": "code",
   "execution_count": 40,
   "id": "2e703643-a723-469e-80f8-183e4eb66301",
   "metadata": {},
   "outputs": [],
   "source": [
    "# Processing all data\n",
    "def process(course, university, location, subject, url):\n",
    "    base_url = \"www2.daad.de\"\n",
    "    course_final = [0] * len(course)\n",
    "    university_final = [0] * len(course)\n",
    "    location_final = [0] * len(course)\n",
    "    subject_final = [0] * len(course)\n",
    "    url_final = [0] * len(course)\n",
    "    \n",
    "    for i in range(0, len(course)):\n",
    "        course_final[i] = course[i].text.strip()\n",
    "        university_final[i] = university[i].text.split(\"•\")[0].strip()\n",
    "        location_final[i] = location[i].text.strip()\n",
    "        subject_final[i] = subject[i].text.strip()\n",
    "        url_final[i] = base_url + url[i][\"href\"]\n",
    "\n",
    "    return course_final, university_final, location_final, subject_final, url_final"
   ]
  },
  {
   "cell_type": "code",
   "execution_count": 46,
   "id": "93bc02f8-a7f2-44af-9bef-b3395f722850",
   "metadata": {},
   "outputs": [],
   "source": [
    "# Writing to CSV\n",
    "def write_csv(course_final, university_final, location_final, subject_final, url_final, keyword):\n",
    "    print(\"Writing Data to CSV\")\n",
    "    with open(f\"All DAAD Courses - {keyword}.csv\", \"w\", newline=\"\") as f:\n",
    "        writer = csv.writer(f)\n",
    "        writer.writerow([\"Course\", \"University\", \"Location\", \"Subject\", \"Link\"])\n",
    "        for i in range(0, len(course_final)):\n",
    "            writer.writerow([course_final[i], university_final[i], location_final[i], subject_final[i], url_final[i]])"
   ]
  },
  {
   "cell_type": "markdown",
   "id": "44fba2c1-7c19-4aa9-aa87-2beb5a205a3e",
   "metadata": {},
   "source": [
    "### Calling all the Functions"
   ]
  },
  {
   "cell_type": "code",
   "execution_count": 38,
   "id": "5cb197f3-13de-4a8a-b44e-171a54274b29",
   "metadata": {},
   "outputs": [],
   "source": [
    "# Merging all functions into one\n",
    "def get_courses():\n",
    "    # Selecting criteria for the program\n",
    "    keyword = get_keyword()\n",
    "    browser = fetch_url()\n",
    "    cookie_popup(browser)\n",
    "    select_program(browser)\n",
    "    search_keyword(browser, keyword)\n",
    "    select_filters(browser)\n",
    "\n",
    "    # Getting all data\n",
    "    no_pages = get_no_pages(browser)\n",
    "    first_page(browser)\n",
    "    course, university, location, subject, url = get_data(browser, no_pages)\n",
    "\n",
    "    # Processing data and storing it to CSV\n",
    "    course_final, university_final, location_final, subject_final, url_final = process(course, university, location, subject, url)\n",
    "    write_csv(course_final, university_final, location_final, subject_final, url_final, keyword)"
   ]
  },
  {
   "cell_type": "code",
   "execution_count": 47,
   "id": "92e43b02-22c4-4513-b92a-027ab42a5995",
   "metadata": {},
   "outputs": [
    {
     "name": "stdin",
     "output_type": "stream",
     "text": [
      "Enter the keyword with you want to search courses:  Computer\n"
     ]
    },
    {
     "name": "stdout",
     "output_type": "stream",
     "text": [
      "Scraping page 1 of 7\n",
      "Scraping page 2 of 7\n",
      "Scraping page 3 of 7\n",
      "Scraping page 4 of 7\n",
      "Scraping page 5 of 7\n",
      "Scraping page 6 of 7\n",
      "Scraping page 7 of 7\n",
      "Writing Data to CSV\n"
     ]
    }
   ],
   "source": [
    "get_courses()"
   ]
  }
 ],
 "metadata": {
  "kernelspec": {
   "display_name": "Python 3 (ipykernel)",
   "language": "python",
   "name": "python3"
  },
  "language_info": {
   "codemirror_mode": {
    "name": "ipython",
    "version": 3
   },
   "file_extension": ".py",
   "mimetype": "text/x-python",
   "name": "python",
   "nbconvert_exporter": "python",
   "pygments_lexer": "ipython3",
   "version": "3.11.5"
  }
 },
 "nbformat": 4,
 "nbformat_minor": 5
}
