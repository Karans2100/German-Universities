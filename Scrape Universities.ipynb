{
 "cells": [
  {
   "cell_type": "markdown",
   "id": "fd98978f-35ac-4c8b-a0df-61fcfe6fbf6f",
   "metadata": {},
   "source": [
    "## Scraping DAAD Website for German Universities"
   ]
  },
  {
   "cell_type": "markdown",
   "id": "b447d8de-8f59-41fc-a2fd-b3543d4bb45f",
   "metadata": {},
   "source": [
    "### Getting Dynamic Webpage using Selenium"
   ]
  },
  {
   "cell_type": "code",
   "execution_count": 34,
   "id": "cfba9fdf-79b7-4fcb-b678-ab7508f63ae3",
   "metadata": {},
   "outputs": [],
   "source": [
    "# Importing Dependencies\n",
    "import requests\n",
    "from bs4 import BeautifulSoup\n",
    "from selenium import webdriver\n",
    "from selenium.webdriver.common.by import By\n",
    "from selenium.webdriver.support.ui import Select\n",
    "import time"
   ]
  },
  {
   "cell_type": "code",
   "execution_count": 39,
   "id": "cd2925d1-70e5-46b3-ae02-55f8378959c5",
   "metadata": {},
   "outputs": [],
   "source": [
    "# Fetching URL using Chrome Browser\n",
    "url = \"https://www2.daad.de/deutschland/studienangebote/international-programmes/en/\"\n",
    "browser = webdriver.Chrome()\n",
    "browser.get(url)\n",
    "time.sleep(3)\n",
    "\n",
    "# For Headless Browser Use below code\n",
    "# options = webdriver.ChromeOptions()\n",
    "# options.add_argument(\"--headless\")\n",
    "# browser = webdriver.Chrome(options=options)"
   ]
  },
  {
   "cell_type": "code",
   "execution_count": 40,
   "id": "1d8cbd76-b839-457b-8f14-1bd82b1bcc09",
   "metadata": {},
   "outputs": [],
   "source": [
    "# Handling Cookie Pop Up\n",
    "accept_element = browser.find_element(By.XPATH, \"/html/body/div[2]/div[2]/div[2]/div/div/div[2]/button\")\n",
    "accept_element.click()"
   ]
  },
  {
   "cell_type": "code",
   "execution_count": 43,
   "id": "29d1d0b8-2e1d-49c7-875a-018db48f6009",
   "metadata": {},
   "outputs": [],
   "source": [
    "# Selecting Search Menu\n",
    "search_element = browser.find_element(By.ID, \"suggest\")\n",
    "search_element.send_keys(\"Computer Science\")"
   ]
  },
  {
   "cell_type": "code",
   "execution_count": 47,
   "id": "5b97c151-2577-4753-be39-012de8301123",
   "metadata": {},
   "outputs": [],
   "source": [
    "# Selecting Degree Program\n",
    "course_menu_element = browser.find_element(By.XPATH, '//*[@id=\"search-form-homepage\"]/div[2]/div[2]/div/div[2]/form/div[2]/div[1]/div/div/fieldset/div/button')\n",
    "course_menu_element.click()\n",
    "course_element = browser.find_element(By.XPATH, '/html/body/div[2]/main/div[1]/div[2]/div[2]/div/div[2]/form/div[2]/div[1]/div/div/fieldset/div/ul/li[2]/label/input')\n",
    "course_element.click()"
   ]
  },
  {
   "cell_type": "code",
   "execution_count": 48,
   "id": "811f2f4d-3b88-4569-ac8f-ff928fd1c8b0",
   "metadata": {},
   "outputs": [],
   "source": [
    "# Selecting Language of the Program\n",
    "language_menu_element = browser.find_element(By.XPATH, '/html/body/div[2]/main/div[1]/div[2]/div[2]/div/div[2]/form/div[2]/div[2]/div/div/fieldset/div/button')\n",
    "language_menu_element.click()\n",
    "language_element = browser.find_element(By.XPATH, '/html/body/div[2]/main/div[1]/div[2]/div[2]/div/div[2]/form/div[2]/div[2]/div/div/fieldset/div/ul/li[2]/label/input')\n",
    "language_element.click()"
   ]
  },
  {
   "cell_type": "code",
   "execution_count": 49,
   "id": "e4787818-1fba-4a8d-8283-bbf23e073267",
   "metadata": {},
   "outputs": [],
   "source": [
    "# Selecting Field of Study\n",
    "field_menu_element = browser.find_element(By.ID, \"filterFos\")\n",
    "field_menu_element.click()\n",
    "field_element = browser.find_element(By.XPATH, '/html/body/div[2]/main/div[1]/div[2]/div[2]/div/div[2]/form/div[2]/div[3]/div/div/select/option[4]')\n",
    "field_element.click()"
   ]
  },
  {
   "cell_type": "code",
   "execution_count": 50,
   "id": "363b3dba-dac0-4b63-987f-c4c30494c44b",
   "metadata": {},
   "outputs": [],
   "source": [
    "# Searching Universities based on the above Criteria\n",
    "search_element = browser.find_element(By.XPATH, '/html/body/div[2]/main/div[1]/div[2]/div[2]/div/div[2]/form/div[3]/button')\n",
    "search_element.click()"
   ]
  },
  {
   "cell_type": "code",
   "execution_count": 52,
   "id": "c46cd923-680e-4873-9f4d-09d1b0663de9",
   "metadata": {},
   "outputs": [],
   "source": [
    "# Selecting Tuition Fees for the program\n",
    "fees_menu_element = browser.find_element(By.ID, \"filterFee\")\n",
    "fees_menu_element.click()\n",
    "fees_element = browser.find_element(By.XPATH, '/html/body/div[2]/main/form/div[1]/div/div/div/div[1]/div[2]/div[10]/div/div/select/option[2]')\n",
    "fees_element.click()"
   ]
  },
  {
   "cell_type": "code",
   "execution_count": 53,
   "id": "ace38e1c-0106-436e-80da-e23b1a5eced3",
   "metadata": {},
   "outputs": [],
   "source": [
    "# Selecting Beginning of the Program\n",
    "beginning_menu_element = browser.find_element(By.XPATH, '/html/body/div[2]/main/form/div[1]/div/div/div/div[1]/div[2]/div[11]/div/div[2]/div/button')\n",
    "beginning_menu_element.click()\n",
    "beginning_element = browser.find_element(By.XPATH, '/html/body/div[2]/main/form/div[1]/div/div/div/div[1]/div[2]/div[11]/div/div[2]/div/ul/li[2]/label/input')\n",
    "beginning_element.click()"
   ]
  },
  {
   "cell_type": "markdown",
   "id": "bf6d003d-a8a2-49c2-b0eb-51643675ab9a",
   "metadata": {},
   "source": [
    "### Parsing the Webpage using BeautifulSoup and Getting name of all Universities"
   ]
  },
  {
   "cell_type": "code",
   "execution_count": 62,
   "id": "4bb25feb-3b7f-4358-a343-1607bdda636a",
   "metadata": {},
   "outputs": [],
   "source": [
    "page = browser.page_source"
   ]
  },
  {
   "cell_type": "code",
   "execution_count": 64,
   "id": "ebd06a34-b29b-4a28-931d-82e71950b6aa",
   "metadata": {},
   "outputs": [],
   "source": [
    "doc = BeautifulSoup(page, \"html.parser\")"
   ]
  },
  {
   "cell_type": "code",
   "execution_count": 66,
   "id": "ad49ce04-8008-4c8d-abc2-63928b52f212",
   "metadata": {},
   "outputs": [
    {
     "data": {
      "text/plain": [
       "10"
      ]
     },
     "execution_count": 66,
     "metadata": {},
     "output_type": "execute_result"
    }
   ],
   "source": [
    "name = doc.find_all(\"span\", {\"class\": \"js-course-title u-hide@sm\"})\n",
    "len(name)"
   ]
  }
 ],
 "metadata": {
  "kernelspec": {
   "display_name": "Python 3 (ipykernel)",
   "language": "python",
   "name": "python3"
  },
  "language_info": {
   "codemirror_mode": {
    "name": "ipython",
    "version": 3
   },
   "file_extension": ".py",
   "mimetype": "text/x-python",
   "name": "python",
   "nbconvert_exporter": "python",
   "pygments_lexer": "ipython3",
   "version": "3.11.5"
  }
 },
 "nbformat": 4,
 "nbformat_minor": 5
}
