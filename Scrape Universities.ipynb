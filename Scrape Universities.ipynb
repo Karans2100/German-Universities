{
 "cells": [
  {
   "cell_type": "markdown",
   "id": "fd98978f-35ac-4c8b-a0df-61fcfe6fbf6f",
   "metadata": {},
   "source": [
    "## Scraping DAAD Website for German Universities"
   ]
  },
  {
   "cell_type": "markdown",
   "id": "b447d8de-8f59-41fc-a2fd-b3543d4bb45f",
   "metadata": {},
   "source": [
    "### Getting Dynamic Webpage using Selenium"
   ]
  },
  {
   "cell_type": "code",
   "execution_count": 40,
   "id": "cfba9fdf-79b7-4fcb-b678-ab7508f63ae3",
   "metadata": {},
   "outputs": [],
   "source": [
    "# Importing Dependencies\n",
    "import requests\n",
    "from bs4 import BeautifulSoup\n",
    "from selenium import webdriver\n",
    "from selenium.webdriver.common.by import By\n",
    "from selenium.webdriver.support.ui import Select\n",
    "import time\n",
    "import csv"
   ]
  },
  {
   "cell_type": "code",
   "execution_count": 41,
   "id": "cd2925d1-70e5-46b3-ae02-55f8378959c5",
   "metadata": {},
   "outputs": [],
   "source": [
    "# Fetching URL using Chrome Browser\n",
    "url = \"https://www2.daad.de/deutschland/studienangebote/international-programmes/en/\"\n",
    "browser = webdriver.Chrome()\n",
    "browser.get(url)\n",
    "browser.maximize_window()\n",
    "time.sleep(3)\n",
    "\n",
    "# For Headless Browser Use below code\n",
    "# options = webdriver.ChromeOptions()\n",
    "# options.add_argument(\"--headless\")\n",
    "# browser = webdriver.Chrome(options=options)"
   ]
  },
  {
   "cell_type": "code",
   "execution_count": 42,
   "id": "1d8cbd76-b839-457b-8f14-1bd82b1bcc09",
   "metadata": {},
   "outputs": [],
   "source": [
    "# Handling Cookie Pop Up\n",
    "accept_element = browser.find_element(By.XPATH, \"/html/body/div[2]/div[2]/div[2]/div/div/div[2]/button\")\n",
    "accept_element.click()"
   ]
  },
  {
   "cell_type": "code",
   "execution_count": 43,
   "id": "5b97c151-2577-4753-be39-012de8301123",
   "metadata": {},
   "outputs": [],
   "source": [
    "# Selecting Degree Program\n",
    "course_menu_element = browser.find_element(By.XPATH, '//*[@id=\"search-form-homepage\"]/div[2]/div[2]/div/div[2]/form/div[2]/div[1]/div/div/fieldset/div/button')\n",
    "course_menu_element.click()\n",
    "course_element = browser.find_element(By.XPATH, '/html/body/div[2]/main/div[1]/div[2]/div[2]/div/div[2]/form/div[2]/div[1]/div/div/fieldset/div/ul/li[2]/label/input')\n",
    "course_element.click()"
   ]
  },
  {
   "cell_type": "code",
   "execution_count": 44,
   "id": "811f2f4d-3b88-4569-ac8f-ff928fd1c8b0",
   "metadata": {},
   "outputs": [],
   "source": [
    "# Selecting Language of the Program\n",
    "language_menu_element = browser.find_element(By.XPATH, '/html/body/div[2]/main/div[1]/div[2]/div[2]/div/div[2]/form/div[2]/div[2]/div/div/fieldset/div/button')\n",
    "language_menu_element.click()\n",
    "language_element = browser.find_element(By.XPATH, '/html/body/div[2]/main/div[1]/div[2]/div[2]/div/div[2]/form/div[2]/div[2]/div/div/fieldset/div/ul/li[2]/label/input')\n",
    "language_element.click()"
   ]
  },
  {
   "cell_type": "code",
   "execution_count": 45,
   "id": "e4787818-1fba-4a8d-8283-bbf23e073267",
   "metadata": {},
   "outputs": [],
   "source": [
    "# Selecting Field of Study\n",
    "field_menu_element = browser.find_element(By.ID, \"filterFos\")\n",
    "field_menu_element.click()\n",
    "field_element = browser.find_element(By.XPATH, '/html/body/div[2]/main/div[1]/div[2]/div[2]/div/div[2]/form/div[2]/div[3]/div/div/select/option[4]')\n",
    "field_element.click()"
   ]
  },
  {
   "cell_type": "code",
   "execution_count": 46,
   "id": "29d1d0b8-2e1d-49c7-875a-018db48f6009",
   "metadata": {},
   "outputs": [],
   "source": [
    "# Selecting Search Menu\n",
    "search_element = browser.find_element(By.ID, \"suggest\")\n",
    "search_element.send_keys(\"Computer Science\")\n",
    "# Closing Search Menu\n",
    "closing_element = browser.find_element(By.XPATH, '/html/body/div[2]/main/div[2]/div/aside/div/div/ul/li[2]/span[1]')\n",
    "closing_element.click()"
   ]
  },
  {
   "cell_type": "code",
   "execution_count": 47,
   "id": "363b3dba-dac0-4b63-987f-c4c30494c44b",
   "metadata": {},
   "outputs": [],
   "source": [
    "# Searching Universities based on the above Criteria\n",
    "search_element = browser.find_element(By.XPATH, '/html/body/div[2]/main/div[1]/div[2]/div[2]/div/div[2]/form/div[3]/button')\n",
    "search_element.click()"
   ]
  },
  {
   "cell_type": "code",
   "execution_count": 48,
   "id": "c46cd923-680e-4873-9f4d-09d1b0663de9",
   "metadata": {},
   "outputs": [],
   "source": [
    "# Selecting Tuition Fees for the program\n",
    "fees_menu_element = browser.find_element(By.ID, \"filterFee\")\n",
    "fees_menu_element.click()\n",
    "fees_element = browser.find_element(By.XPATH, '/html/body/div[2]/main/form/div[1]/div/div/div/div[1]/div[2]/div[10]/div/div/select/option[2]')\n",
    "fees_element.click()"
   ]
  },
  {
   "cell_type": "code",
   "execution_count": 49,
   "id": "ace38e1c-0106-436e-80da-e23b1a5eced3",
   "metadata": {},
   "outputs": [],
   "source": [
    "# Selecting Beginning of the Program\n",
    "beginning_menu_element = browser.find_element(By.XPATH, '/html/body/div[2]/main/form/div[1]/div/div/div/div[1]/div[2]/div[11]/div/div[2]/div/button')\n",
    "beginning_menu_element.click()\n",
    "beginning_element = browser.find_element(By.XPATH, '/html/body/div[2]/main/form/div[1]/div/div/div/div[1]/div[2]/div[11]/div/div[2]/div/ul/li[2]/label/input')\n",
    "beginning_element.click()"
   ]
  },
  {
   "cell_type": "markdown",
   "id": "bf6d003d-a8a2-49c2-b0eb-51643675ab9a",
   "metadata": {},
   "source": [
    "### Parsing the Webpage using BeautifulSoup and Getting all Information for first Webpage"
   ]
  },
  {
   "cell_type": "code",
   "execution_count": 72,
   "id": "4bb25feb-3b7f-4358-a343-1607bdda636a",
   "metadata": {},
   "outputs": [],
   "source": [
    "# Getting the webpage and Parsing it\n",
    "page = browser.page_source\n",
    "doc = BeautifulSoup(page, \"html.parser\")"
   ]
  },
  {
   "cell_type": "code",
   "execution_count": 73,
   "id": "ad49ce04-8008-4c8d-abc2-63928b52f212",
   "metadata": {},
   "outputs": [
    {
     "data": {
      "text/plain": [
       "10"
      ]
     },
     "execution_count": 73,
     "metadata": {},
     "output_type": "execute_result"
    }
   ],
   "source": [
    "# Getting the tag for the name of the Course\n",
    "course_name = doc.find_all(\"span\", {\"class\": \"js-course-title u-hide@sm\"})\n",
    "len(course_name)"
   ]
  },
  {
   "cell_type": "code",
   "execution_count": 74,
   "id": "849f51a6-846c-47e4-8cd8-1d4380eb6130",
   "metadata": {},
   "outputs": [
    {
     "data": {
      "text/plain": [
       "'Master of Science in Computer Engineering'"
      ]
     },
     "execution_count": 74,
     "metadata": {},
     "output_type": "execute_result"
    }
   ],
   "source": [
    "course_name[0].text.strip()"
   ]
  },
  {
   "cell_type": "code",
   "execution_count": 75,
   "id": "f0652208-16c8-445a-8971-69202a310402",
   "metadata": {},
   "outputs": [
    {
     "data": {
      "text/plain": [
       "10"
      ]
     },
     "execution_count": 75,
     "metadata": {},
     "output_type": "execute_result"
    }
   ],
   "source": [
    "# Getting the tag for the name of the University\n",
    "university_name = doc.find_all(\"span\", {\"class\": \"c-ad-carousel__subtitle c-ad-carousel__subtitle--small js-course-academy\"})\n",
    "len(university_name)"
   ]
  },
  {
   "cell_type": "code",
   "execution_count": 76,
   "id": "de6c03c3-e6f8-4281-8718-139e456be275",
   "metadata": {},
   "outputs": [
    {
     "data": {
      "text/plain": [
       "'Paderborn University'"
      ]
     },
     "execution_count": 76,
     "metadata": {},
     "output_type": "execute_result"
    }
   ],
   "source": [
    "university_name[0].text.split(\"•\")[0].strip()"
   ]
  },
  {
   "cell_type": "code",
   "execution_count": 77,
   "id": "2692e5e5-fd64-466a-82a6-5517d02c2dda",
   "metadata": {},
   "outputs": [
    {
     "data": {
      "text/plain": [
       "10"
      ]
     },
     "execution_count": 77,
     "metadata": {},
     "output_type": "execute_result"
    }
   ],
   "source": [
    "# Getting the tag for the location of the University\n",
    "location_name = doc.find_all(\"span\", {\"class\": \"c-ad-carousel__subtitle c-ad-carousel__subtitle--location c-ad-carousel__subtitle--small\"})\n",
    "len(location_name)"
   ]
  },
  {
   "cell_type": "code",
   "execution_count": 78,
   "id": "39a6b965-42d9-4b39-a394-f533f443f2de",
   "metadata": {},
   "outputs": [
    {
     "data": {
      "text/plain": [
       "'Paderborn'"
      ]
     },
     "execution_count": 78,
     "metadata": {},
     "output_type": "execute_result"
    }
   ],
   "source": [
    "location_name[0].text.strip()"
   ]
  },
  {
   "cell_type": "code",
   "execution_count": 79,
   "id": "b178df69-8569-4fdd-a10c-2a9e26b48aed",
   "metadata": {},
   "outputs": [
    {
     "data": {
      "text/plain": [
       "10"
      ]
     },
     "execution_count": 79,
     "metadata": {},
     "output_type": "execute_result"
    }
   ],
   "source": [
    "# Getting the tag for the Subject of the Course\n",
    "subject_name = []\n",
    "ul_name = doc.find_all(\"ul\", {\"class\": \"c-ad-carousel__data-list c-ad-carousel__data-list--not-colored p-0 mb-0\"})\n",
    "\n",
    "for i  in range(0, len(ul_name)):\n",
    "    li_name = ul_name[i].find_all(\"li\")\n",
    "    subject = li_name[0].find_all(\"span\")\n",
    "    subject_name.append(subject[0])\n",
    "\n",
    "len(subject_name)"
   ]
  },
  {
   "cell_type": "code",
   "execution_count": 80,
   "id": "d4376095-622e-4a22-9895-bbd2c0493fa0",
   "metadata": {},
   "outputs": [
    {
     "data": {
      "text/plain": [
       "'Electrical Engineering'"
      ]
     },
     "execution_count": 80,
     "metadata": {},
     "output_type": "execute_result"
    }
   ],
   "source": [
    "subject_name[0].text.strip()"
   ]
  },
  {
   "cell_type": "markdown",
   "id": "4964775f-e503-4757-b466-2e3a745ac3d3",
   "metadata": {},
   "source": [
    "### Going to Next Page and Checking all Tags"
   ]
  },
  {
   "cell_type": "code",
   "execution_count": 81,
   "id": "4cbebb9e-1c83-425f-9bd8-d25c2252ffca",
   "metadata": {},
   "outputs": [],
   "source": [
    "next_page_element = browser.find_element(By.XPATH, \"/html/body/div[2]/main/div[2]/div[3]/div/div/div[1]/div[2]/a[2]\")\n",
    "next_page_element.click()"
   ]
  },
  {
   "cell_type": "code",
   "execution_count": 82,
   "id": "1c13f7b4-edd3-4af9-8c7d-a51cf5df6c78",
   "metadata": {},
   "outputs": [],
   "source": [
    "# Getting the webpage and Parsing it\n",
    "page = browser.page_source\n",
    "doc = BeautifulSoup(page, \"html.parser\")"
   ]
  },
  {
   "cell_type": "code",
   "execution_count": 83,
   "id": "258d1e5c-c541-41be-b54b-23933293c5b2",
   "metadata": {},
   "outputs": [
    {
     "data": {
      "text/plain": [
       "10"
      ]
     },
     "execution_count": 83,
     "metadata": {},
     "output_type": "execute_result"
    }
   ],
   "source": [
    "# Getting the tag for the name of the Course\n",
    "course_name = doc.find_all(\"span\", {\"class\": \"js-course-title u-hide@sm\"})\n",
    "len(course_name)"
   ]
  },
  {
   "cell_type": "code",
   "execution_count": 97,
   "id": "638b2468-57d2-4666-859a-231cd3baff2c",
   "metadata": {},
   "outputs": [
    {
     "data": {
      "text/plain": [
       "\"International Master's Programme in Advanced Computational and Civil Engineering Structural Studies (ACCESS)\""
      ]
     },
     "execution_count": 97,
     "metadata": {},
     "output_type": "execute_result"
    }
   ],
   "source": [
    "course_name[9].text.strip()"
   ]
  },
  {
   "cell_type": "code",
   "execution_count": 85,
   "id": "bdfb0198-ac0b-48ed-a133-1f5600a5c212",
   "metadata": {},
   "outputs": [
    {
     "data": {
      "text/plain": [
       "10"
      ]
     },
     "execution_count": 85,
     "metadata": {},
     "output_type": "execute_result"
    }
   ],
   "source": [
    "# Getting the tag for the name of the University\n",
    "university_name = doc.find_all(\"span\", {\"class\": \"c-ad-carousel__subtitle c-ad-carousel__subtitle--small js-course-academy\"})\n",
    "len(university_name)"
   ]
  },
  {
   "cell_type": "code",
   "execution_count": 96,
   "id": "1b85e4ae-4843-4478-937c-a93df72f86c7",
   "metadata": {},
   "outputs": [
    {
     "data": {
      "text/plain": [
       "'Dresden University of Technology'"
      ]
     },
     "execution_count": 96,
     "metadata": {},
     "output_type": "execute_result"
    }
   ],
   "source": [
    "university_name[9].text.split(\"•\")[0].strip()"
   ]
  },
  {
   "cell_type": "code",
   "execution_count": 87,
   "id": "9bfc1d98-9842-4abe-bb9e-b85f1a92f612",
   "metadata": {},
   "outputs": [
    {
     "data": {
      "text/plain": [
       "10"
      ]
     },
     "execution_count": 87,
     "metadata": {},
     "output_type": "execute_result"
    }
   ],
   "source": [
    "# Getting the tag for the location of the University\n",
    "location_name = doc.find_all(\"span\", {\"class\": \"c-ad-carousel__subtitle c-ad-carousel__subtitle--location c-ad-carousel__subtitle--small\"})\n",
    "len(location_name)"
   ]
  },
  {
   "cell_type": "code",
   "execution_count": 95,
   "id": "c4eae69c-75f0-4378-93cd-94d6c10edcb2",
   "metadata": {},
   "outputs": [
    {
     "data": {
      "text/plain": [
       "'Dresden'"
      ]
     },
     "execution_count": 95,
     "metadata": {},
     "output_type": "execute_result"
    }
   ],
   "source": [
    "location_name[9].text.strip()"
   ]
  },
  {
   "cell_type": "code",
   "execution_count": 89,
   "id": "0498c2e6-f58e-40ea-9c48-eaf746759e21",
   "metadata": {},
   "outputs": [
    {
     "data": {
      "text/plain": [
       "10"
      ]
     },
     "execution_count": 89,
     "metadata": {},
     "output_type": "execute_result"
    }
   ],
   "source": [
    "# Getting the tag for the Subject of the Course\n",
    "subject_name = []\n",
    "ul_name = doc.find_all(\"ul\", {\"class\": \"c-ad-carousel__data-list c-ad-carousel__data-list--not-colored p-0 mb-0\"})\n",
    "\n",
    "for i  in range(0, len(ul_name)):\n",
    "    li_name = ul_name[i].find_all(\"li\")\n",
    "    subject = li_name[0].find_all(\"span\")\n",
    "    subject_name.append(subject[0])\n",
    "\n",
    "len(subject_name)"
   ]
  },
  {
   "cell_type": "code",
   "execution_count": 94,
   "id": "0ee0c9d1-084e-46da-a5ff-42bd549febfa",
   "metadata": {},
   "outputs": [
    {
     "data": {
      "text/plain": [
       "'Civil Engineering'"
      ]
     },
     "execution_count": 94,
     "metadata": {},
     "output_type": "execute_result"
    }
   ],
   "source": [
    "subject_name[9].text.strip()"
   ]
  },
  {
   "cell_type": "markdown",
   "id": "f1786030-b6d2-49f7-a260-ba6246a958a9",
   "metadata": {},
   "source": [
    "### Getting all Tags for all Pages"
   ]
  },
  {
   "cell_type": "code",
   "execution_count": 70,
   "id": "d60a7f67-9eb9-4073-97da-ba84371c1da0",
   "metadata": {},
   "outputs": [
    {
     "data": {
      "text/plain": [
       "17"
      ]
     },
     "execution_count": 70,
     "metadata": {},
     "output_type": "execute_result"
    }
   ],
   "source": [
    "# Getting number of webpages\n",
    "no_pages = browser.find_element(By.XPATH, \"/html/body/div[2]/main/div[2]/div[3]/div/div/div[1]/span/span\")\n",
    "no_pages = int(no_pages.text)\n",
    "no_pages"
   ]
  },
  {
   "cell_type": "code",
   "execution_count": 131,
   "id": "040854fd-29d4-475b-bcda-68e2412ec3df",
   "metadata": {},
   "outputs": [],
   "source": [
    "# Getting to the first page\n",
    "page_dropdown_element = browser.find_element(By.XPATH, \"/html/body/div[2]/main/div[2]/div[3]/div/div/div[1]/div[1]/div/select\")\n",
    "page_dropdown_element.click()\n",
    "page_number_element = browser.find_element(By.XPATH, \"/html/body/div[2]/main/div[2]/div[3]/div/div/div[1]/div[1]/div/select/option[1]\")\n",
    "page_number_element.click()\n",
    "time.sleep(2)"
   ]
  },
  {
   "cell_type": "code",
   "execution_count": 132,
   "id": "e4d54886-aa0b-49a8-bfec-e449a5d561a2",
   "metadata": {},
   "outputs": [
    {
     "name": "stdout",
     "output_type": "stream",
     "text": [
      "Scraping page 1\n",
      "Scraping page 2\n",
      "Scraping page 3\n",
      "Scraping page 4\n",
      "Scraping page 5\n",
      "Scraping page 6\n",
      "Scraping page 7\n",
      "Scraping page 8\n",
      "Scraping page 9\n",
      "Scraping page 10\n",
      "Scraping page 11\n",
      "Scraping page 12\n",
      "Scraping page 13\n",
      "Scraping page 14\n",
      "Scraping page 15\n",
      "Scraping page 16\n",
      "Scraping page 17\n"
     ]
    }
   ],
   "source": [
    "# Getting data all data\n",
    "course = []\n",
    "university = []\n",
    "location = []\n",
    "subject = []\n",
    "for i in range(0, no_pages):\n",
    "    print(f\"Scraping page {i + 1}\")\n",
    "    # Getting the webpage and Parsing it\n",
    "    page = browser.page_source\n",
    "    doc = BeautifulSoup(page, \"html.parser\")\n",
    "\n",
    "    course_name = doc.find_all(\"span\", {\"class\": \"js-course-title u-hide@sm\"})\n",
    "    university_name = doc.find_all(\"span\", {\"class\": \"c-ad-carousel__subtitle c-ad-carousel__subtitle--small js-course-academy\"})\n",
    "    location_name = doc.find_all(\"span\", {\"class\": \"c-ad-carousel__subtitle c-ad-carousel__subtitle--location c-ad-carousel__subtitle--small\"})\n",
    "    subject_name = []\n",
    "    ul_name = doc.find_all(\"ul\", {\"class\": \"c-ad-carousel__data-list c-ad-carousel__data-list--not-colored p-0 mb-0\"})\n",
    "    \n",
    "    for j in range(0, len(ul_name)):\n",
    "        li_name = ul_name[j].find_all(\"li\")\n",
    "        subject_upper = li_name[0].find_all(\"span\")\n",
    "        subject_name.append(subject_upper[0])\n",
    "\n",
    "    course += course_name\n",
    "    university += university_name\n",
    "    location += location_name\n",
    "    subject += subject_name\n",
    "\n",
    "    if i == no_pages - 1:\n",
    "        break\n",
    "    next_page_element = browser.find_element(By.XPATH, \"/html/body/div[2]/main/div[2]/div[3]/div/div/div[1]/div[2]/a[2]\")\n",
    "    next_page_element.click()\n",
    "    time.sleep(2)"
   ]
  },
  {
   "cell_type": "code",
   "execution_count": 133,
   "id": "47240c55-4851-4c61-87ee-124ac71f436e",
   "metadata": {},
   "outputs": [
    {
     "data": {
      "text/plain": [
       "164"
      ]
     },
     "execution_count": 133,
     "metadata": {},
     "output_type": "execute_result"
    }
   ],
   "source": [
    "len(subject)"
   ]
  },
  {
   "cell_type": "code",
   "execution_count": 136,
   "id": "91d1e236-eb83-465b-8f17-5aaa903eb94a",
   "metadata": {},
   "outputs": [],
   "source": [
    "# Processing all the data\n",
    "course_final = [0] * len(course)\n",
    "university_final = [0] * len(course)\n",
    "location_final = [0] * len(course)\n",
    "subject_final = [0] * len(course)\n",
    "\n",
    "for i in range(0, len(course)):\n",
    "    course_final[i] = course[i].text.strip()\n",
    "    university_final[i] = university[i].text.split(\"•\")[0].strip()\n",
    "    location_final[i] = location[i].text.strip()\n",
    "    subject_final[i] = subject[i].text.strip()"
   ]
  },
  {
   "cell_type": "code",
   "execution_count": 141,
   "id": "7bd76bad-8b52-463b-9430-5b62ceaf5c6e",
   "metadata": {},
   "outputs": [
    {
     "data": {
      "text/plain": [
       "164"
      ]
     },
     "execution_count": 141,
     "metadata": {},
     "output_type": "execute_result"
    }
   ],
   "source": [
    "len(course_final)"
   ]
  },
  {
   "cell_type": "code",
   "execution_count": 140,
   "id": "b22508c7-0334-4358-81ac-6b45ae457e82",
   "metadata": {},
   "outputs": [],
   "source": [
    "# Writing to CSV\n",
    "with open(\"University.csv\", \"w\", newline=) as f:\n",
    "    writer = csv.writer(f)\n",
    "    writer.writerow([\"Course\", \"University\", \"Location\", \"Subject\"])\n",
    "    for i in range(0, len(course_final)):\n",
    "        writer.writerow([course_final[i], university_final[i], location_final[i], subject_final[i]])"
   ]
  }
 ],
 "metadata": {
  "kernelspec": {
   "display_name": "Python 3 (ipykernel)",
   "language": "python",
   "name": "python3"
  },
  "language_info": {
   "codemirror_mode": {
    "name": "ipython",
    "version": 3
   },
   "file_extension": ".py",
   "mimetype": "text/x-python",
   "name": "python",
   "nbconvert_exporter": "python",
   "pygments_lexer": "ipython3",
   "version": "3.11.5"
  }
 },
 "nbformat": 4,
 "nbformat_minor": 5
}
